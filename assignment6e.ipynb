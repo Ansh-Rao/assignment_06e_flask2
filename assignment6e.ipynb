{
 "cells": [
  {
   "cell_type": "markdown",
   "id": "b03fda06-56ec-456c-ae73-37bfa3f167a5",
   "metadata": {},
   "source": [
    "#### Q1. Explain GET and POST methods."
   ]
  },
  {
   "cell_type": "code",
   "execution_count": 1,
   "id": "17314076-95aa-469a-b42b-34397691f78a",
   "metadata": {},
   "outputs": [],
   "source": [
    "# Both GET and POST method is used to transfer data from client to server in HTTP protocol but\n",
    "# Main difference between POST and GET method is that GET carries request parameter appended\n",
    "# in URL string while POST carries request parameter in message body which makes it more secure\n",
    "# way of transferring data from client to server.\n"
   ]
  },
  {
   "cell_type": "code",
   "execution_count": null,
   "id": "36663c9d-715a-4bb4-80ec-54d51742a8e7",
   "metadata": {},
   "outputs": [],
   "source": []
  },
  {
   "cell_type": "markdown",
   "id": "a00a0e05-4f05-48b4-92aa-1c8b8fd8a3ea",
   "metadata": {},
   "source": [
    "#### Q2. Why is request used in Flask?"
   ]
  },
  {
   "cell_type": "code",
   "execution_count": 2,
   "id": "641b0234-ddd5-4dd2-b12e-0d580cbb92d3",
   "metadata": {},
   "outputs": [],
   "source": [
    "# The Request, in Flask, is an object that contains all the data sent from the Client to Server. \n",
    "# This data can be recovered using the GET/POST Methods."
   ]
  },
  {
   "cell_type": "code",
   "execution_count": null,
   "id": "dbaab3e7-b80d-482a-8c9c-d9ce68db7d73",
   "metadata": {},
   "outputs": [],
   "source": []
  },
  {
   "cell_type": "markdown",
   "id": "16176090-92ec-4353-8195-18a2244fca1c",
   "metadata": {},
   "source": [
    "#### Q3. Why is redirect() used in Flask?"
   ]
  },
  {
   "cell_type": "code",
   "execution_count": 3,
   "id": "ededec8b-bfd6-4a4f-ab66-e2b681cdd295",
   "metadata": {},
   "outputs": [],
   "source": [
    "# A redirect is used in the Flask class to send the user to a particular URL with the status code.\n",
    "# conversely, this status code additionally identifies the issue."
   ]
  },
  {
   "cell_type": "code",
   "execution_count": null,
   "id": "20cb6221-6664-401d-b9b4-1142dc95e784",
   "metadata": {},
   "outputs": [],
   "source": []
  },
  {
   "cell_type": "markdown",
   "id": "11fc8cc9-af14-4585-8f23-1fe6fda139bf",
   "metadata": {},
   "source": [
    "#### Q4. What are templates in Flask? Why is the render_template() function used?"
   ]
  },
  {
   "cell_type": "code",
   "execution_count": 4,
   "id": "9e7af555-68d1-45df-ac56-9322ab0750ce",
   "metadata": {},
   "outputs": [],
   "source": [
    "# Templates are files that contain static data as well as placeholders for dynamic data.\n",
    "# A template is rendered with specific data to produce a final document."
   ]
  },
  {
   "cell_type": "code",
   "execution_count": 5,
   "id": "3cbdf1f9-bf89-4142-94c3-a1a6abc6b4b7",
   "metadata": {},
   "outputs": [],
   "source": [
    "# render_template is used to generate output from a template file based on the Jinja2 engine that \n",
    "# is found in the application's templates folder."
   ]
  },
  {
   "cell_type": "code",
   "execution_count": null,
   "id": "4f06740f-4ae0-4595-b6a8-c19281a0aa41",
   "metadata": {},
   "outputs": [],
   "source": []
  },
  {
   "cell_type": "markdown",
   "id": "f855169c-93b7-4e2e-bfa6-90adcf272ba4",
   "metadata": {},
   "source": [
    "#### Q5. Create a simple API. Use Postman to test it. Attach the screenshot of the output in the Jupyter Notebook."
   ]
  },
  {
   "cell_type": "code",
   "execution_count": null,
   "id": "ef348755-ab1f-4cc1-9ef3-aa5e9f537188",
   "metadata": {},
   "outputs": [],
   "source": [
    "from flask import Flask\n",
    "\n",
    "app = Flask(__name__)\n",
    "\n",
    "@app.route(\"/welcome\")\n",
    "def welcome():\n",
    "    return \"<h1>Welcome to ABC Corporation</h1>\"\n",
    "\n",
    "if __name__==\"__main__\":\n",
    "    app.run(host=\"0.0.0.0\")\n"
   ]
  }
 ],
 "metadata": {
  "kernelspec": {
   "display_name": "Python 3 (ipykernel)",
   "language": "python",
   "name": "python3"
  },
  "language_info": {
   "codemirror_mode": {
    "name": "ipython",
    "version": 3
   },
   "file_extension": ".py",
   "mimetype": "text/x-python",
   "name": "python",
   "nbconvert_exporter": "python",
   "pygments_lexer": "ipython3",
   "version": "3.10.8"
  }
 },
 "nbformat": 4,
 "nbformat_minor": 5
}
